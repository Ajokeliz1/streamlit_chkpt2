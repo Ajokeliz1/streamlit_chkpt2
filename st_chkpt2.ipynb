{
 "cells": [
  {
   "cell_type": "code",
   "execution_count": 1,
   "id": "1c8ee605-e2bc-4237-8a18-be6b9d4979e9",
   "metadata": {},
   "outputs": [
    {
     "data": {
      "text/plain": [
       "['expected_columns.pkl']"
      ]
     },
     "execution_count": 1,
     "metadata": {},
     "output_type": "execute_result"
    }
   ],
   "source": [
    "import pandas as pd\n",
    "from sklearn.model_selection import train_test_split\n",
    "from sklearn.ensemble import RandomForestClassifier\n",
    "from sklearn.preprocessing import OneHotEncoder\n",
    "from sklearn.compose import ColumnTransformer\n",
    "from sklearn.pipeline import Pipeline\n",
    "import joblib\n",
    "\n",
    "\n",
    "df = pd.read_csv(\"Financial_inclusion_dataset.csv\")\n",
    "\n",
    "\n",
    "df.drop(columns=['year', 'uniqueid'], inplace=True)\n",
    "\n",
    "\n",
    "df['bank_account'] = df['bank_account'].map({'Yes': 1, 'No': 0})\n",
    "\n",
    "\n",
    "X = df.drop(columns='bank_account')\n",
    "y = df['bank_account']\n",
    "\n",
    "\n",
    "categorical_cols = X.select_dtypes(include='object').columns.tolist()\n",
    "numerical_cols = X.select_dtypes(include='int64').columns.tolist()\n",
    "\n",
    "\n",
    "encoder = OneHotEncoder(handle_unknown='ignore', sparse_output=False)\n",
    "preprocessor = ColumnTransformer([\n",
    "    ('cat', encoder, categorical_cols)\n",
    "], remainder='passthrough') \n",
    "\n",
    "pipeline = Pipeline([\n",
    "    ('preprocessor', preprocessor),\n",
    "    ('model', RandomForestClassifier(random_state=42))\n",
    "])\n",
    "\n",
    "\n",
    "X_train, X_test, y_train, y_test = train_test_split(X, y, test_size=0.2, random_state=42)\n",
    "\n",
    "\n",
    "pipeline.fit(X_train, y_train)\n",
    "\n",
    "\n",
    "joblib.dump(pipeline, 'financial_inclusion_model.pkl')\n",
    "joblib.dump(encoder, 'encoder.pkl')\n",
    "joblib.dump(categorical_cols, 'categorical_columns.pkl')\n",
    "\n",
    "\n",
    "encoder.fit(X[categorical_cols])\n",
    "encoded_feature_names = encoder.get_feature_names_out(categorical_cols)\n",
    "expected_columns = list(encoded_feature_names) + numerical_cols\n",
    "joblib.dump(expected_columns, 'expected_columns.pkl')\n"
   ]
  },
  {
   "cell_type": "code",
   "execution_count": null,
   "id": "6aacd680-b8b3-4cf8-be26-78c3709280c0",
   "metadata": {},
   "outputs": [],
   "source": []
  }
 ],
 "metadata": {
  "kernelspec": {
   "display_name": "Python 3 (ipykernel)",
   "language": "python",
   "name": "python3"
  },
  "language_info": {
   "codemirror_mode": {
    "name": "ipython",
    "version": 3
   },
   "file_extension": ".py",
   "mimetype": "text/x-python",
   "name": "python",
   "nbconvert_exporter": "python",
   "pygments_lexer": "ipython3",
   "version": "3.12.0"
  }
 },
 "nbformat": 4,
 "nbformat_minor": 5
}
